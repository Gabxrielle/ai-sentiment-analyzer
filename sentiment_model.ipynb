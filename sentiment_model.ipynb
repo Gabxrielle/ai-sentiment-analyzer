{
 "cells": [
  {
   "cell_type": "markdown",
   "id": "e55a8772",
   "metadata": {},
   "source": [
    "# AI Sentiment Analyzer\n",
    "This notebook trains a basic sentiment analysis model using Python, scikit-learn, and a small dataset."
   ]
  },
  {
   "cell_type": "code",
   "execution_count": null,
   "id": "33ee4c73",
   "metadata": {},
   "outputs": [],
   "source": [
    "import pandas as pd\n",
    "from sklearn.model_selection import train_test_split\n",
    "from sklearn.feature_extraction.text import CountVectorizer\n",
    "from sklearn.linear_model import LogisticRegression\n",
    "from sklearn.metrics import accuracy_score"
   ]
  },
  {
   "cell_type": "markdown",
   "id": "e584af3e",
   "metadata": {},
   "source": [
    "## Load Dataset"
   ]
  },
  {
   "cell_type": "code",
   "execution_count": null,
   "id": "0ebeffda",
   "metadata": {},
   "outputs": [],
   "source": [
    "# Dataset de exemplo\n",
    "data = {\n",
    "    'text': [\n",
    "        'I love this product!',\n",
    "        'This is the worst experience I’ve had.',\n",
    "        'It’s okay, not great but not bad either.',\n",
    "        'Absolutely fantastic service!',\n",
    "        'I hate how slow the app is.',\n",
    "        'Nothing special, just average.'\n",
    "    ],\n",
    "    'label': ['positive', 'negative', 'neutral', 'positive', 'negative', 'neutral']\n",
    "}\n",
    "\n",
    "df = pd.DataFrame(data)\n",
    "df.head()"
   ]
  },
  {
   "cell_type": "markdown",
   "id": "c958eb04",
   "metadata": {},
   "source": [
    "## Preprocessing & Vectorization"
   ]
  },
  {
   "cell_type": "code",
   "execution_count": null,
   "id": "b1921ee1",
   "metadata": {},
   "outputs": [],
   "source": [
    "vectorizer = CountVectorizer()\n",
    "X = vectorizer.fit_transform(df['text'])\n",
    "y = df['label']\n",
    "\n",
    "X_train, X_test, y_train, y_test = train_test_split(X, y, test_size=0.2, random_state=42)"
   ]
  },
  {
   "cell_type": "markdown",
   "id": "c9c0034a",
   "metadata": {},
   "source": [
    "## Model Training & Evaluation"
   ]
  },
  {
   "cell_type": "code",
   "execution_count": null,
   "id": "b79fe293",
   "metadata": {},
   "outputs": [],
   "source": [
    "model = LogisticRegression()\n",
    "model.fit(X_train, y_train)\n",
    "\n",
    "predictions = model.predict(X_test)\n",
    "accuracy = accuracy_score(y_test, predictions)\n",
    "print(f'Accuracy: {accuracy * 100:.2f}%')"
   ]
  },
  {
   "cell_type": "markdown",
   "id": "92468da7",
   "metadata": {},
   "source": [
    "## Make a Prediction"
   ]
  },
  {
   "cell_type": "code",
   "execution_count": null,
   "id": "2b01a2d5",
   "metadata": {},
   "outputs": [],
   "source": [
    "def predict_sentiment(text):\n",
    "    text_vect = vectorizer.transform([text])\n",
    "    return model.predict(text_vect)[0]\n",
    "\n",
    "# Testando\n",
    "print(predict_sentiment(\"I absolutely love this!\"))\n",
    "print(predict_sentiment(\"This is terrible...\"))"
   ]
  }
 ],
 "metadata": {},
 "nbformat": 4,
 "nbformat_minor": 5
}
